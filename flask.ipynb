{
 "cells": [
  {
   "cell_type": "code",
   "execution_count": 9,
   "id": "814d04f4",
   "metadata": {},
   "outputs": [],
   "source": [
    "# pip install flask"
   ]
  },
  {
   "cell_type": "code",
   "execution_count": 3,
   "id": "689f7510",
   "metadata": {},
   "outputs": [
    {
     "name": "stdout",
     "output_type": "stream",
     "text": [
      "Overwriting deployment_emotion.py\n"
     ]
    }
   ],
   "source": [
    "%%writefile deployment_emotion.py\n",
    "\n",
    "\n",
    "from flask import Flask, render_template, request\n",
    "from keras.models import load_model\n",
    "from keras.preprocessing import image\n",
    "import matplotlib.pyplot as plt\n",
    "from tensorflow.keras import Model\n",
    "import numpy as np\n",
    "import PIL\n",
    "from PIL import Image\n",
    "import efficientnet.keras as efn \n",
    "import tensorflow as tf\n",
    "import pandas as pd\n",
    "from tensorflow import keras\n",
    "from tensorflow.keras import layers\n",
    "from tensorflow.keras.models import Sequential\n",
    "import os\n",
    "\n",
    "from functions.visuals import *\n",
    "from functions.check import score\n",
    "\n",
    "\n",
    "app = Flask(__name__)\n",
    "class_names = ['angry', 'disgusted', 'fearful', 'happy', 'neutral', 'sad', 'surprised']\n",
    "\n",
    "#class_names - defined the classnames\n",
    "\n",
    "\n",
    "model = load_model('model.h5')\n",
    "\n",
    "@app.route('/', methods=[\"GET\"])\n",
    "def hello():\n",
    "    return render_template('index.html')\n",
    "\n",
    "\n",
    "@app.route('/', methods=[\"POST\"])\n",
    "def predict():\n",
    "    imagefile = request.files['imagefile']                              # used to upload the photo\n",
    "    image_path = \"/Users/sarbjitmadra/Desktop/Concordia/emotion_detection/assets/\" + imagefile.filename  \n",
    "    imagefile.save(image_path)                                          # image will be saved in the assets folder\n",
    "    \n",
    "    img = tf.keras.utils.load_img(image_path, target_size=(48, 48))     # take input photo and resize it to 48x48\n",
    "    img_array = tf.keras.utils.img_to_array(img)                        # image will be converted to arrays\n",
    "    img_array = tf.expand_dims(img_array, 0) \n",
    "    \n",
    "    predictions = model.predict(img_array)                              # model will predict\n",
    "    score = tf.nn.softmax(predictions[0])\n",
    "    classification = class_names[np.argmax(score)]                     \n",
    "    return f'The prediction shows {classification} face.'               # final output of prediction\n",
    "    \n",
    "    return render_template('index.html', prediction = classification)\n",
    "\n",
    "\n",
    "if __name__ == '__main__':\n",
    "    app.run(debug=True)\n"
   ]
  },
  {
   "cell_type": "code",
   "execution_count": null,
   "id": "f15a79a0",
   "metadata": {},
   "outputs": [],
   "source": []
  },
  {
   "cell_type": "code",
   "execution_count": null,
   "id": "366ecc74",
   "metadata": {},
   "outputs": [],
   "source": []
  }
 ],
 "metadata": {
  "kernelspec": {
   "display_name": "Python 3 (ipykernel)",
   "language": "python",
   "name": "python3"
  },
  "language_info": {
   "codemirror_mode": {
    "name": "ipython",
    "version": 3
   },
   "file_extension": ".py",
   "mimetype": "text/x-python",
   "name": "python",
   "nbconvert_exporter": "python",
   "pygments_lexer": "ipython3",
   "version": "3.9.7"
  }
 },
 "nbformat": 4,
 "nbformat_minor": 5
}
